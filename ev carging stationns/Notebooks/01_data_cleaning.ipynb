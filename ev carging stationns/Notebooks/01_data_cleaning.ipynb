{
 "cells": [
  {
   "cell_type": "code",
   "execution_count": 3,
   "id": "ffd47875-6f50-4563-94ff-6e100daff8b6",
   "metadata": {},
   "outputs": [],
   "source": [
    "import pandas as pd"
   ]
  },
  {
   "cell_type": "code",
   "execution_count": 4,
   "id": "7b08b427-0320-4ac4-b064-d625c5752ad1",
   "metadata": {},
   "outputs": [],
   "source": [
    "#loading data sets\n",
    "ev_df=pd.read_csv(\"C:/Users/manav/OneDrive/Desktop/ev carging stationns/Data/RAW/EV_Dataset.csv\")\n",
    "pop_df=pd.read_csv(\"C:/Users/manav/OneDrive/Desktop/ev carging stationns/Data/RAW/Population of India.csv\")\n",
    "charge_df=pd.read_csv(\"C:/Users/manav/OneDrive/Desktop/ev carging stationns/Data/RAW/ev-charging-stations-india.csv\")"
   ]
  },
  {
   "cell_type": "code",
   "execution_count": 6,
   "id": "0f8f3a4e-c8fc-4438-8626-1e322b34b4b0",
   "metadata": {},
   "outputs": [],
   "source": [
    "# --- Clean column names ---\n",
    "ev_df.columns = ev_df.columns.str.strip().str.lower()\n",
    "pop_df.columns = pop_df.columns.str.strip().str.lower()\n",
    "charge_df.columns = charge_df.columns.str.strip().str.lower()\n",
    "\n",
    "#it removes the space and lowes the column name"
   ]
  },
  {
   "cell_type": "code",
   "execution_count": 39,
   "id": "c0d33a24-a6ac-4e5c-9779-2b332eb5c0af",
   "metadata": {},
   "outputs": [],
   "source": [
    "# --- Rename for consistency ---\n",
    "ev_df.rename(columns={'state_name': 'state'}, inplace=True)\n",
    "pop_df.rename(columns={'state/ut': 'state'}, inplace=True)\n",
    "ev_df.rename(columns={'ev_sales_quantity': 'ev_count'}, inplace=True)\n",
    "pop_df.rename(columns={'population[50]': 'population'}, inplace=True)\n",
    "#renames column state_name to state in both da "
   ]
  },
  {
   "cell_type": "code",
   "execution_count": 40,
   "id": "d1464e9e-1ab3-493b-8830-e02de878387e",
   "metadata": {},
   "outputs": [
    {
     "data": {
      "text/plain": [
       "['sl no',\n",
       " 'state',\n",
       " 'population',\n",
       " 'percent (%)',\n",
       " 'male',\n",
       " 'female',\n",
       " 'difference between male and female',\n",
       " 'sex ratio',\n",
       " 'rural[51]',\n",
       " 'urban[51]',\n",
       " 'area[52] (km2)',\n",
       " 'density (per km2)']"
      ]
     },
     "execution_count": 40,
     "metadata": {},
     "output_type": "execute_result"
    }
   ],
   "source": [
    "\n",
    "list(pop_df.columns)"
   ]
  },
  {
   "cell_type": "code",
   "execution_count": 41,
   "id": "8ea61adb-a467-4854-b795-d74e43700e65",
   "metadata": {},
   "outputs": [],
   "source": [
    "# --- Clean whitespace and formatting ---\n",
    "ev_df['state'] = ev_df['state'].str.strip().str.title()\n"
   ]
  },
  {
   "cell_type": "code",
   "execution_count": 42,
   "id": "ce74089a-d686-4dda-928c-c16c8d6a94e6",
   "metadata": {},
   "outputs": [],
   "source": [
    "\n",
    "pop_df['state'] = pop_df['state'].str.strip().str.title()"
   ]
  },
  {
   "cell_type": "code",
   "execution_count": 43,
   "id": "30985a47-2b85-48d8-97ff-a227712ee05d",
   "metadata": {},
   "outputs": [
    {
     "data": {
      "text/plain": [
       "['name', 'state', 'city', 'address', 'lattitude', 'longitude', 'type']"
      ]
     },
     "execution_count": 43,
     "metadata": {},
     "output_type": "execute_result"
    }
   ],
   "source": [
    "list(charge_df.columns)"
   ]
  },
  {
   "cell_type": "code",
   "execution_count": 44,
   "id": "e77972f7-8fc7-4835-880e-af4c3069533a",
   "metadata": {},
   "outputs": [],
   "source": [
    "# --- Drop nulls ---\n",
    "ev_df.dropna(inplace=True)\n",
    "pop_df.dropna(inplace=True)\n",
    "charge_df.dropna(subset=['lattitude', 'longitude'], inplace=True)\n",
    "\n",
    "#It removes all rows with any null values from ev_df and pop_df, and only removes rows from charge_df where latitude or longitude is null."
   ]
  },
  {
   "cell_type": "code",
   "execution_count": 45,
   "id": "61fa2d68-359b-4c6d-88a1-64f681f19046",
   "metadata": {},
   "outputs": [],
   "source": [
    "# --- Merge EV and Population data ---\n",
    "merged_df = pd.merge(ev_df, pop_df, on='state', how='inner')"
   ]
  },
  {
   "cell_type": "code",
   "execution_count": 46,
   "id": "a540ff4e-f231-4625-b8b9-b87bd6246357",
   "metadata": {},
   "outputs": [],
   "source": [
    "# --- Add new column: EVs per 1000 people ---\n",
    "merged_df['ev_per_1000'] = (merged_df['ev_count'] / merged_df['population']) * 1000\n",
    "#It creates a new column ev_per_1000 showing how many EVs there are per 1,000 people in each state."
   ]
  },
  {
   "cell_type": "code",
   "execution_count": 48,
   "id": "860bd420-7d1d-4096-9970-b05c442b84a7",
   "metadata": {},
   "outputs": [],
   "source": [
    "# --- Save processed datasets ---\n",
    "merged_df.to_csv(r'C:\\Users\\manav\\OneDrive\\Desktop\\ev carging stationns\\Data\\processed\\merged_data.csv', index=False)\n",
    "charge_df.to_csv(r'C:\\Users\\manav\\OneDrive\\Desktop\\ev carging stationns\\Data\\processed\\charging_stations_clean.csv', index=False)\n",
    "\n"
   ]
  }
 ],
 "metadata": {
  "kernelspec": {
   "display_name": "Python 3 (ipykernel)",
   "language": "python",
   "name": "python3"
  },
  "language_info": {
   "codemirror_mode": {
    "name": "ipython",
    "version": 3
   },
   "file_extension": ".py",
   "mimetype": "text/x-python",
   "name": "python",
   "nbconvert_exporter": "python",
   "pygments_lexer": "ipython3",
   "version": "3.12.7"
  }
 },
 "nbformat": 4,
 "nbformat_minor": 5
}
